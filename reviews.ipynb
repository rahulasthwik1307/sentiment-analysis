{
 "cells": [
  {
   "cell_type": "code",
   "execution_count": 1,
   "id": "78f13500-0595-484c-a6e1-4bc671cf8041",
   "metadata": {},
   "outputs": [
    {
     "name": "stderr",
     "output_type": "stream",
     "text": [
      "[nltk_data] Downloading package stopwords to\n",
      "[nltk_data]     C:\\Users\\LENOVO\\AppData\\Roaming\\nltk_data...\n",
      "[nltk_data]   Package stopwords is already up-to-date!\n",
      "[nltk_data] Downloading package wordnet to\n",
      "[nltk_data]     C:\\Users\\LENOVO\\AppData\\Roaming\\nltk_data...\n",
      "[nltk_data]   Package wordnet is already up-to-date!\n",
      "[nltk_data] Downloading package punkt to\n",
      "[nltk_data]     C:\\Users\\LENOVO\\AppData\\Roaming\\nltk_data...\n",
      "[nltk_data]   Package punkt is already up-to-date!\n"
     ]
    },
    {
     "data": {
      "text/plain": [
       "True"
      ]
     },
     "execution_count": 1,
     "metadata": {},
     "output_type": "execute_result"
    }
   ],
   "source": [
    "import numpy as np\n",
    "import pandas as pd\n",
    "import nltk\n",
    "from nltk.corpus import stopwords\n",
    "from nltk.tokenize import word_tokenize\n",
    "from nltk.stem import WordNetLemmatizer\n",
    "from sklearn.model_selection import train_test_split, GridSearchCV, cross_val_score\n",
    "from sklearn.feature_extraction.text import TfidfVectorizer\n",
    "from sklearn.linear_model import LogisticRegression\n",
    "from sklearn.metrics import accuracy_score, classification_report\n",
    "from sklearn.naive_bayes import MultinomialNB\n",
    "from sklearn.svm import SVC\n",
    "from sklearn.ensemble import RandomForestClassifier\n",
    "from time import time\n",
    "from spellchecker import SpellChecker\n",
    "import joblib\n",
    "import matplotlib.pyplot as plt\n",
    "import seaborn as sns\n",
    "\n",
    "# Download necessary NLTK resources\n",
    "nltk.download('stopwords')\n",
    "nltk.download('wordnet')\n",
    "nltk.download('punkt')\n"
   ]
  },
  {
   "cell_type": "code",
   "execution_count": 2,
   "id": "ba6bf524-6d21-4829-b1eb-69335032a4a8",
   "metadata": {},
   "outputs": [],
   "source": [
    "\n",
    "# Load the dataset\n",
    "df = pd.read_csv('Restaurant_Reviews 1.tsv', sep='\\t')\n",
    "\n",
    "# Drop missing values\n",
    "df = df.dropna()\n",
    "\n",
    "# Preprocessing function\n",
    "stop_words = set(stopwords.words('english'))\n",
    "lemmatizer = WordNetLemmatizer()\n",
    "spell = SpellChecker()\n",
    "\n",
    "def preprocess_text(text):\n",
    "    \n",
    "    if text is None:\n",
    "        return \"\"\n",
    "    \n",
    "    text = text.lower()\n",
    "    \n",
    "    # Tokenize the text\n",
    "    tokens = word_tokenize(text)\n",
    "    \n",
    "    # Correct spelling, filter out non-alphabetic tokens, and lemmatize\n",
    "    tokens = [spell.correction(token) for token in tokens if token.isalpha()]\n",
    "    tokens = [lemmatizer.lemmatize(token) for token in tokens if token not in stop_words and token is not None]\n",
    "    \n",
    "    # Return the cleaned text\n",
    "    return ' '.join(tokens)\n",
    "\n",
    "# Handle missing values in reviews\n",
    "df['Review'] = df['Review'].fillna('')  # Replace missing values with empty strings\n",
    "\n",
    "# Apply preprocessing\n",
    "df['Cleaned_Review'] = df['Review'].apply(preprocess_text)\n"
   ]
  },
  {
   "cell_type": "code",
   "execution_count": 3,
   "id": "efe23ca4-57ad-4ccb-9a6b-02bffcf99467",
   "metadata": {},
   "outputs": [
    {
     "data": {
      "text/plain": [
       "['y_train.pkl']"
      ]
     },
     "execution_count": 3,
     "metadata": {},
     "output_type": "execute_result"
    }
   ],
   "source": [
    "\n",
    "vectorizer = TfidfVectorizer(max_features=5000)\n",
    "X = vectorizer.fit_transform(df['Cleaned_Review']).toarray()\n",
    "y = df['Liked']\n",
    "\n",
    "# Save the vectorizer for future use\n",
    "joblib.dump(vectorizer, 'tfidf_vectorizer.pkl')\n",
    "\n",
    "# Split dataset\n",
    "X_train, X_test, y_train, y_test = train_test_split(X, y, test_size=0.2, random_state=42)\n",
    "\n",
    "# Save the train-test split data\n",
    "joblib.dump(X_test, 'X_test.pkl')\n",
    "joblib.dump(y_test, 'y_test.pkl')\n",
    "joblib.dump(X_train, 'X_train.pkl')\n",
    "joblib.dump(y_train, 'y_train.pkl')\n"
   ]
  },
  {
   "cell_type": "code",
   "execution_count": 4,
   "id": "67348f5d-f64e-4d7e-ba6e-21efffff3d54",
   "metadata": {},
   "outputs": [
    {
     "name": "stdout",
     "output_type": "stream",
     "text": [
      "Training Naive Bayes...\n",
      "\n",
      "Naive Bayes Classification Report:\n",
      "              precision    recall  f1-score   support\n",
      "\n",
      "           0       0.76      0.77      0.77        96\n",
      "           1       0.79      0.78      0.78       104\n",
      "\n",
      "    accuracy                           0.78       200\n",
      "   macro avg       0.77      0.77      0.77       200\n",
      "weighted avg       0.78      0.78      0.78       200\n",
      "\n",
      "Naive Bayes Accuracy: 0.7750\n",
      "Naive Bayes Training Time: 0.01 seconds\n",
      "\n",
      "Training Logistic Regression...\n",
      "\n",
      "Logistic Regression Classification Report:\n",
      "              precision    recall  f1-score   support\n",
      "\n",
      "           0       0.70      0.85      0.77        96\n",
      "           1       0.83      0.66      0.74       104\n",
      "\n",
      "    accuracy                           0.76       200\n",
      "   macro avg       0.77      0.76      0.75       200\n",
      "weighted avg       0.77      0.76      0.75       200\n",
      "\n",
      "Logistic Regression Accuracy: 0.7550\n",
      "Logistic Regression Training Time: 0.02 seconds\n",
      "\n",
      "Training SVM...\n",
      "\n",
      "SVM Classification Report:\n",
      "              precision    recall  f1-score   support\n",
      "\n",
      "           0       0.72      0.89      0.79        96\n",
      "           1       0.87      0.68      0.76       104\n",
      "\n",
      "    accuracy                           0.78       200\n",
      "   macro avg       0.79      0.78      0.78       200\n",
      "weighted avg       0.80      0.78      0.78       200\n",
      "\n",
      "SVM Accuracy: 0.7800\n",
      "SVM Training Time: 2.80 seconds\n",
      "\n",
      "Training Random Forest...\n",
      "\n",
      "Random Forest Classification Report:\n",
      "              precision    recall  f1-score   support\n",
      "\n",
      "           0       0.67      0.91      0.77        96\n",
      "           1       0.87      0.59      0.70       104\n",
      "\n",
      "    accuracy                           0.74       200\n",
      "   macro avg       0.77      0.75      0.74       200\n",
      "weighted avg       0.77      0.74      0.73       200\n",
      "\n",
      "Random Forest Accuracy: 0.7400\n",
      "Random Forest Training Time: 0.61 seconds\n",
      "\n",
      "Best Model: SVM\n",
      "Best Model Accuracy: 0.7800\n",
      "Best model saved as 'sentiment_model.pkl'.\n"
     ]
    }
   ],
   "source": [
    "# Initialize models\n",
    "\n",
    "models = {\n",
    "    'Naive Bayes': MultinomialNB(),\n",
    "    'Logistic Regression': LogisticRegression(max_iter=1000),\n",
    "    'SVM': SVC(probability=True),\n",
    "    'Random Forest': RandomForestClassifier(n_estimators=100, random_state=42)\n",
    "}\n",
    "\n",
    "results = {}\n",
    "best_model = None\n",
    "best_accuracy = 0\n",
    "best_model_name = \"\"\n",
    "\n",
    "\n",
    "\n",
    "# Iterate through each model\n",
    "for name, model in models.items():\n",
    "    print(f\"Training {name}...\")\n",
    "    start_time = time()\n",
    "    model.fit(X_train, y_train)\n",
    "    y_pred = model.predict(X_test)\n",
    "    training_time = time() - start_time\n",
    "    \n",
    "    # Calculate accuracy\n",
    "    accuracy = accuracy_score(y_test, y_pred)\n",
    "    print(f\"\\n{name} Classification Report:\")\n",
    "    print(classification_report(y_test, y_pred))  # Print classification report\n",
    "    print(f\"{name} Accuracy: {accuracy:.4f}\")\n",
    "    print(f\"{name} Training Time: {training_time:.2f} seconds\\n\")\n",
    "\n",
    "      \n",
    "    # Perform cross-validation\n",
    "    cv_scores = cross_val_score(model, X_train, y_train, cv=5)\n",
    "    \n",
    "    # Store results\n",
    "    results[name] = {\n",
    "        'accuracy': accuracy,\n",
    "        'cv_scores': cv_scores,\n",
    "        'training_time': training_time,\n",
    "        'model': model\n",
    "    \n",
    "    }\n",
    "    \n",
    "    # Track the best model\n",
    "    if accuracy > best_accuracy:\n",
    "        best_accuracy = accuracy\n",
    "        best_model = model\n",
    "        best_model_name = name\n",
    "\n",
    "# Print the best model details\n",
    "print(f\"Best Model: {best_model_name}\")\n",
    "print(f\"Best Model Accuracy: {best_accuracy:.4f}\")\n",
    "\n",
    "# Save the best model\n",
    "joblib.dump(best_model, 'sentiment_model.pkl')\n",
    "print(f\"Best model saved as 'sentiment_model.pkl'.\")\n"
   ]
  },
  {
   "cell_type": "code",
   "execution_count": 5,
   "id": "2c06309f-5ab1-4cdf-9ff2-d147d09f0389",
   "metadata": {},
   "outputs": [
    {
     "name": "stdout",
     "output_type": "stream",
     "text": [
      "\n",
      "Model Comparison Table:\n",
      "                 Model  Accuracy  Cross-Validation Mean  \\\n",
      "0          Naive Bayes     0.775                0.77000   \n",
      "1  Logistic Regression     0.755                0.78250   \n",
      "2                  SVM     0.780                0.78125   \n",
      "3        Random Forest     0.740                0.75375   \n",
      "\n",
      "   Training Time (seconds)  \n",
      "0                 0.007003  \n",
      "1                 0.024003  \n",
      "2                 2.802433  \n",
      "3                 0.607607  \n"
     ]
    },
    {
     "data": {
      "image/png": "[encoded data removed]",
      "text/plain": [
       "<Figure size 1000x600 with 1 Axes>"
      ]
     },
     "metadata": {},
     "output_type": "display_data"
    },
    {
     "data": {
      "text/plain": [
       "['model_results.pkl']"
      ]
     },
     "execution_count": 5,
     "metadata": {},
     "output_type": "execute_result"
    }
   ],
   "source": [
    "\n",
    "model_names = list(results.keys())\n",
    "accuracy_scores = [results[name]['accuracy'] for name in model_names]\n",
    "cv_mean_scores = [results[name]['cv_scores'].mean() for name in model_names]\n",
    "training_times = [results[name]['training_time'] for name in model_names]\n",
    "\n",
    "# Create a DataFrame for comparison\n",
    "comparison_df = pd.DataFrame({\n",
    "    'Model': model_names,\n",
    "    'Accuracy': accuracy_scores,\n",
    "    'Cross-Validation Mean': cv_mean_scores,\n",
    "    'Training Time (seconds)': training_times\n",
    "})\n",
    "\n",
    "# Print the table\n",
    "print(\"\\nModel Comparison Table:\")\n",
    "print(comparison_df)\n",
    "\n",
    "# Plotting the accuracy and cross-validation mean scores\n",
    "plt.figure(figsize=(10, 6))\n",
    "sns.barplot(x=model_names, y=accuracy_scores, color='skyblue')\n",
    "sns.barplot(x=model_names, y=cv_mean_scores, color='lightgreen', alpha=0.6)\n",
    "\n",
    "plt.xlabel('Models')\n",
    "plt.ylabel('Scores')\n",
    "plt.title('Model Comparison (Accuracy vs Cross-Validation Mean)')\n",
    "plt.legend([\"Accuracy\", \"CV Mean Score\"])\n",
    "\n",
    "# Show the plot\n",
    "plt.show()\n",
    "\n",
    "# Save the results for future reference\n",
    "joblib.dump(results, 'model_results.pkl')\n"
   ]
  }
 ],
 "metadata": {
  "kernelspec": {
   "display_name": "Python 3 (ipykernel)",
   "language": "python",
   "name": "python3"
  },
  "language_info": {
   "codemirror_mode": {
    "name": "ipython",
    "version": 3
   },
   "file_extension": ".py",
   "mimetype": "text/x-python",
   "name": "python",
   "nbconvert_exporter": "python",
   "pygments_lexer": "ipython3",
   "version": "3.9.0"
  }
 },
 "nbformat": 4,
 "nbformat_minor": 5
}
